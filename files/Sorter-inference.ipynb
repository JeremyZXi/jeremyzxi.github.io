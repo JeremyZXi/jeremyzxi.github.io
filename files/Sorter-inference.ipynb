{
 "cells": [
  {
   "cell_type": "markdown",
   "id": "4f44d848",
   "metadata": {},
   "source": [
    "## "
   ]
  },
  {
   "cell_type": "markdown",
   "id": "32258f24",
   "metadata": {},
   "source": [
    "### General notice\n",
    "- as far as I know, you need tensorflow<=2.12 for the model from teachable machine to load\n",
    "- arduino code is at the end of this file\n",
    "- you need to change your serial channel according to where your board is connected to"
   ]
  },
  {
   "cell_type": "code",
   "execution_count": null,
   "id": "acd057d9",
   "metadata": {},
   "outputs": [],
   "source": []
  },
  {
   "cell_type": "code",
   "execution_count": 1,
   "id": "401af4d6",
   "metadata": {},
   "outputs": [
    {
     "name": "stdout",
     "output_type": "stream",
     "text": [
      "Collecting pyserial\n",
      "  Obtaining dependency information for pyserial from https://files.pythonhosted.org/packages/07/bc/587a445451b253b285629263eb51c2d8e9bcea4fc97826266d186f96f558/pyserial-3.5-py2.py3-none-any.whl.metadata\n",
      "  Downloading pyserial-3.5-py2.py3-none-any.whl.metadata (1.6 kB)\n",
      "Downloading pyserial-3.5-py2.py3-none-any.whl (90 kB)\n",
      "\u001b[2K   \u001b[90m━━━━━━━━━━━━━━━━━━━━━━━━━━━━━━━━━━━━━━━━\u001b[0m \u001b[32m90.6/90.6 kB\u001b[0m \u001b[31m910.5 kB/s\u001b[0m eta \u001b[36m0:00:00\u001b[0m\u001b[36m0:00:01\u001b[0m\n",
      "\u001b[?25hInstalling collected packages: pyserial\n",
      "Successfully installed pyserial-3.5\n"
     ]
    }
   ],
   "source": [
    "!pip install pyserial\n",
    "!pip install opencv-python"
   ]
  },
  {
   "cell_type": "code",
   "execution_count": 3,
   "id": "9e909538",
   "metadata": {},
   "outputs": [
    {
     "data": {
      "text/plain": [
       "'2.12.0'"
      ]
     },
     "execution_count": 3,
     "metadata": {},
     "output_type": "execute_result"
    }
   ],
   "source": [
    "import tensorflow\n",
    "tensorflow.version.VERSION\n",
    "#you need to downgrade your tensorflow if the version is higher than 2.12.0\n",
    "#2.13 may work, not tested yet"
   ]
  },
  {
   "cell_type": "code",
   "execution_count": 5,
   "id": "ca2d8a89",
   "metadata": {},
   "outputs": [
    {
     "name": "stdout",
     "output_type": "stream",
     "text": [
      "Model Loaded\n",
      "Sent: Test connection\n"
     ]
    },
    {
     "ename": "KeyboardInterrupt",
     "evalue": "",
     "output_type": "error",
     "traceback": [
      "\u001b[0;31m---------------------------------------------------------------------------\u001b[0m",
      "\u001b[0;31mKeyboardInterrupt\u001b[0m                         Traceback (most recent call last)",
      "Cell \u001b[0;32mIn[5], line 24\u001b[0m\n\u001b[1;32m     21\u001b[0m arduino\u001b[38;5;241m.\u001b[39mwrite(\u001b[38;5;124mb\u001b[39m\u001b[38;5;124m'\u001b[39m\u001b[38;5;124mt\u001b[39m\u001b[38;5;124m'\u001b[39m)  \u001b[38;5;66;03m# Sends the character '1' to the Arduino\u001b[39;00m\n\u001b[1;32m     22\u001b[0m \u001b[38;5;28mprint\u001b[39m(\u001b[38;5;124m\"\u001b[39m\u001b[38;5;124mSent: Test connection\u001b[39m\u001b[38;5;124m\"\u001b[39m)\n\u001b[0;32m---> 24\u001b[0m response \u001b[38;5;241m=\u001b[39m arduino\u001b[38;5;241m.\u001b[39mreadline()\u001b[38;5;241m.\u001b[39mdecode(\u001b[38;5;124m'\u001b[39m\u001b[38;5;124mutf-8\u001b[39m\u001b[38;5;124m'\u001b[39m)\u001b[38;5;241m.\u001b[39mstrip()  \u001b[38;5;66;03m# Read and decode the response\u001b[39;00m\n\u001b[1;32m     25\u001b[0m \u001b[38;5;28mprint\u001b[39m(\u001b[38;5;124mf\u001b[39m\u001b[38;5;124m\"\u001b[39m\u001b[38;5;124mArduino response: \u001b[39m\u001b[38;5;132;01m{\u001b[39;00mresponse\u001b[38;5;132;01m}\u001b[39;00m\u001b[38;5;124m\"\u001b[39m)\n\u001b[1;32m     27\u001b[0m \u001b[38;5;66;03m# CAMERA can be 0 or 1 based on default camera of your computer\u001b[39;00m\n",
      "File \u001b[0;32m~/anaconda3/lib/python3.11/site-packages/serial/serialposix.py:565\u001b[0m, in \u001b[0;36mSerial.read\u001b[0;34m(self, size)\u001b[0m\n\u001b[1;32m    563\u001b[0m \u001b[38;5;28;01mwhile\u001b[39;00m \u001b[38;5;28mlen\u001b[39m(read) \u001b[38;5;241m<\u001b[39m size:\n\u001b[1;32m    564\u001b[0m     \u001b[38;5;28;01mtry\u001b[39;00m:\n\u001b[0;32m--> 565\u001b[0m         ready, _, _ \u001b[38;5;241m=\u001b[39m select\u001b[38;5;241m.\u001b[39mselect([\u001b[38;5;28mself\u001b[39m\u001b[38;5;241m.\u001b[39mfd, \u001b[38;5;28mself\u001b[39m\u001b[38;5;241m.\u001b[39mpipe_abort_read_r], [], [], timeout\u001b[38;5;241m.\u001b[39mtime_left())\n\u001b[1;32m    566\u001b[0m         \u001b[38;5;28;01mif\u001b[39;00m \u001b[38;5;28mself\u001b[39m\u001b[38;5;241m.\u001b[39mpipe_abort_read_r \u001b[38;5;129;01min\u001b[39;00m ready:\n\u001b[1;32m    567\u001b[0m             os\u001b[38;5;241m.\u001b[39mread(\u001b[38;5;28mself\u001b[39m\u001b[38;5;241m.\u001b[39mpipe_abort_read_r, \u001b[38;5;241m1000\u001b[39m)\n",
      "\u001b[0;31mKeyboardInterrupt\u001b[0m: "
     ]
    }
   ],
   "source": [
    "from keras.models import load_model  # TensorFlow is required for Keras to work\n",
    "import cv2  # Install opencv-python\n",
    "import numpy as np\n",
    "import serial\n",
    "import time\n",
    "\n",
    "# Disable scientific notation for clarity\n",
    "np.set_printoptions(suppress=True)\n",
    "\n",
    "# Load the model\n",
    "model = load_model(\"sorter_real/keras_Model.h5\", compile=False)\n",
    "print(\"Model Loaded\")\n",
    "\n",
    "# Load the labels\n",
    "class_names = open(\"sorter_real/labels.txt\", \"r\").readlines()\n",
    "\n",
    "arduino = serial.Serial('/dev/tty.usbmodem11301', 9600) #change this based on your own channel\n",
    "time.sleep(2)  # Wait for the serial connection to establish\n",
    "\n",
    "# sent a command to the board\n",
    "arduino.write(b't')  # Sends the character '1' to the Arduino\n",
    "print(\"Sent: Test connection\")\n",
    "\n",
    "response = arduino.readline().decode('utf-8').strip()  # Read and decode the response\n",
    "print(f\"Arduino response: {response}\")\n",
    "\n",
    "# CAMERA can be 0 or 1 based on default camera of your computer\n",
    "camera = cv2.VideoCapture(0)\n",
    "\n",
    "while True:\n",
    "    time.sleep(2)\n",
    "    \n",
    "    # Grab the webcamera's image.\n",
    "    ret, image = camera.read()\n",
    "\n",
    "    # Resize the raw image into (224-height,224-width) pixels\n",
    "    image = cv2.resize(image, (224, 224), interpolation=cv2.INTER_AREA)\n",
    "\n",
    "    # Show the image in a window\n",
    "    cv2.imshow(\"Webcam Image\", image)\n",
    "\n",
    "    # Make the image a numpy array and reshape it to the models input shape.\n",
    "    image = np.asarray(image, dtype=np.float32).reshape(1, 224, 224, 3)\n",
    "\n",
    "    # Normalize the image array\n",
    "    image = (image / 127.5) - 1\n",
    "\n",
    "    # Predicts the model\n",
    "    prediction = model.predict(image,verbose = 0)\n",
    "    index = np.argmax(prediction)\n",
    "    class_name = class_names[index]\n",
    "    confidence_score = prediction[0][index]\n",
    "\n",
    "    status_line = f\"\\rClass: {class_name[2:].strip()} | Confidence: {str(np.round(confidence_score * 100))[:-2]}% | \"\n",
    "    \n",
    "    if index == 0:\n",
    "        arduino.write(b'0')  \n",
    "        response = arduino.readline().decode('utf-8').strip()\n",
    "        status_line += f\"Status: Empty | Arduino: {response}\"\n",
    "    elif index == 1:  \n",
    "        arduino.write(b'1')  \n",
    "        response = arduino.readline().decode('utf-8').strip()\n",
    "        status_line += f\"Status: Ear Plug detected | Arduino: {response}\"\n",
    "    elif index == 2 :\n",
    "        arduino.write(b'2')\n",
    "        response = arduino.readline().decode('utf-8').strip()\n",
    "        status_line += f\"Status: Paper ball detected | Arduino: {response}\"\n",
    "    \n",
    "    # Pad the line with spaces to ensure complete overwrite\n",
    "    status_line = status_line.ljust(100)\n",
    "    print(status_line, end='', flush=True)\n",
    "    \n",
    "    # Listen to the keyboard for presses.\n",
    "    keyboard_input = cv2.waitKey(1)\n",
    "    \n",
    "\n",
    "    # 27 is the ASCII for the esc key on your keyboard.\n",
    "    if keyboard_input == 27:\n",
    "        break\n",
    "\n",
    "camera.release()\n",
    "cv2.destroyAllWindows()\n"
   ]
  },
  {
   "cell_type": "markdown",
   "id": "c2950c03",
   "metadata": {},
   "source": [
    "### arduino code\n",
    "```C++\n",
    "\n",
    "void setup() {\n",
    "  Serial.begin(9600);  // Start serial communication at 9600 baud rate\n",
    "  pinMode(13, OUTPUT); // Set pin 13 as an output for the built-in LED\n",
    "}\n",
    "\n",
    "void loop() {\n",
    "  if (Serial.available()) {\n",
    "    char command = Serial.read();  // Read the incoming byte\n",
    "    if (command == '0') {\n",
    "      digitalWrite(13, HIGH);  // Turn on the LED\n",
    "      Serial.println(\"Connection established\");  // Send a response back to Python\n",
    "    } else if(command == '1'){\n",
    "      // you can add more operations here e.g. control a servo\n",
    "        digitalWrite(13, HIGH);\n",
    "        Serial.println(\"Class 1 recived\");\n",
    "    } else if(command == '2'){\n",
    "        digitalWrite(13, HIGH); \n",
    "        Serial.println(\"Class 2 recived\");\n",
    "    }\n",
    "  }\n",
    "}\n",
    "\n",
    "\n",
    "```"
   ]
  },
  {
   "cell_type": "code",
   "execution_count": null,
   "id": "68dc23c0",
   "metadata": {},
   "outputs": [],
   "source": []
  },
  {
   "cell_type": "code",
   "execution_count": null,
   "id": "3900c839",
   "metadata": {},
   "outputs": [],
   "source": []
  }
 ],
 "metadata": {
  "kernelspec": {
   "display_name": "Python 3 (ipykernel)",
   "language": "python",
   "name": "python3"
  },
  "language_info": {
   "codemirror_mode": {
    "name": "ipython",
    "version": 3
   },
   "file_extension": ".py",
   "mimetype": "text/x-python",
   "name": "python",
   "nbconvert_exporter": "python",
   "pygments_lexer": "ipython3",
   "version": "3.11.0"
  }
 },
 "nbformat": 4,
 "nbformat_minor": 5
}
